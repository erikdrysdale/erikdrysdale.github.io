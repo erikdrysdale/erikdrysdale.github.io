{
 "cells": [
  {
   "cell_type": "code",
   "execution_count": 5,
   "metadata": {},
   "outputs": [],
   "source": [
    "import os\n",
    "import numpy as np\n",
    "import pandas as pd\n",
    "from scipy.stats import norm\n",
    "from scipy.stats import multivariate_normal as MVN\n",
    "from scipy.optimize import minimize_scalar\n",
    "from plotnine import *"
   ]
  },
  {
   "source": [
    "print(2+2)"
   ],
   "cell_type": "code",
   "metadata": {},
   "execution_count": 6,
   "outputs": [
    {
     "output_type": "stream",
     "name": "stdout",
     "text": [
      "4\n"
     ]
    }
   ]
  },
  {
   "source": [
    "## (1) Background\n",
    "\n",
    "Consider the sum of a normal $Z_1 \\sim N(\\mu_1,\\tau_1^2)$ and truncated normal variable and $Z_2 \\sim TN(\\mu_2,\\tau_2^2,a,b)$: $W=Z_1+Z_2$. How can this normal-truncated sum (NTS) distribution be characterized? One approach for doing inference on $W$ is simply to sample from it, as sampling algorithms for both $Z_1$ and $Z_2$ are well defind. Having an analytical formula for the density (PDF) and cumulative distribution function (CDF) for $W$ allows for an exact calculations which can enable faster inference over a range of different parameters and removes the randomness inherant in sampling. This post will show how to 1) calculate the PDF and CDF for $W$, and 2) provide three statistical use cases: i) quality control, ii) two-stage hypothesis testing, and iii) data carving for selective inference. \n",
    "\n",
    "This post will use theoretical results from [Arnold et. al (1993)](https://link.springer.com/article/10.1007/BF02294652) (hereafter Arnold) and [Kim (2006)](https://www.kss.or.kr/jounalDown.php?IDX=831) (hereafter Kim), and show how to implement their work in `python`.  "
   ],
   "cell_type": "markdown",
   "metadata": {}
  },
  {
   "source": [
    "## (2) Integrating a bivariate normal CDF\n",
    "\n",
    "The CDF of a bivarate normal will turn out to be necessary to calculate the CDF of the NTS. While there is no closed-form solution to the CDF of a BVN (unless it's to calculate the the CDF from the origin), the integration problem can be written fairly succinctly and solved by fast integration solvers. Furthermore, there are analytical solutions an approximation of the CDF. This section will briefly review both approaches. \n",
    "\n"
   ],
   "cell_type": "markdown",
   "metadata": {}
  },
  {
   "source": [
    "## (2) Deriving $f_W$ and $f_W$\n",
    "\n",
    "The first step to characterize the distribution NTS, $W$, is to understand the distribution of a truncated bivariate normal distrubion (TBVN). \n",
    "\n",
    "$$\n",
    "\\begin{align*}\n",
    "(X, Y) &\\sim TBVN(\\theta, \\Sigma, \\rho, a, b) \\\\\n",
    "E([X,Y]) &= [\\theta_1, \\theta_2] \\\\\n",
    "V([X,Y]) &= \\begin{pmatrix} \\sigma_1^2 & \\rho \\sigma_1\\sigma_2 \\\\ \\rho \\sigma_1\\sigma_2 & \\sigma_2^2  \\end{pmatrix} \\\\\n",
    "X &\\in \\mathbb{R}, \\hspace{3mm} Y \\in [a,b]\n",
    "\\end{align*}\n",
    "$$\n",
    "\n",
    "Notice that the TBVN takes the same formulation as a bivariate normal (a mean vector, a covariance matrix, and a correlation coefficient $\\rho$) except that the random variable $Y$ term is truncated bound between $a$ and $b$. Arnold showed that the marginal density of the non-truncated random variabel ($X$) could be written as follows:\n",
    "\n",
    "$$\n",
    "\\begin{align}\n",
    "f_X(x) &= \\frac{\\phi(m_1(x)) \\Bigg[ \\Phi\\Big(\\frac{\\beta-\\rho \\cdot m_1(x)}{\\sqrt{1-\\rho^2}}\\Big) - \\Phi\\Big(\\frac{\\alpha-\\rho \\cdot m_1(x)}{\\sqrt{1-\\rho^2}}\\Big) \\Bigg] }{\\sigma_1\\cdot Z} \\tag{1} \\\\ \n",
    "m_i(x) &= (x - \\theta_i)/\\sigma_i  \\\\\n",
    "\\alpha &= \\frac{a-\\theta_2}{\\sigma_2}, \\hspace{3mm} \\beta = \\frac{b-\\theta_2}{\\sigma_2}  \\\\\n",
    "Z &= \\Phi(\\beta) - \\Phi(\\alpha)\n",
    "\\end{align}\n",
    "$$\n",
    "\n",
    "Kim showed that a NTS could be written as a TBVN by a simple change of variables:\n",
    "\n",
    "$$\n",
    "\\begin{align*}\n",
    "X &= Z_1 + Z_2^u \\\\ \n",
    "Y &= Z_2^u, \\hspace{3mm} Y \\in [a,b] \\\\\n",
    "Z_2^u &\\sim N(\\mu_2,\\tau_2^2),\n",
    "\\end{align*}\n",
    "$$\n",
    "\n",
    "Where $Z_2^u$ is the non-truncated version of $Z_2$. Clearly this specification of the TBVN is equivalent to the NTS and the marginal distribution of $X$ is equivalent to the PDF of $W$. \n",
    "\n",
    "$$\n",
    "\\begin{align*}\n",
    "F_X(x) &= 1 - \\frac{L(m_1(x),\\alpha,\\rho) - L(m_1(x),\\beta,\\rho)}{Z}\n",
    "\\end{align*}\n",
    "$$\n",
    "\n",
    "Where $L(d,e,f)=P(X_1 > d, X_2>e; f)$ is the orthant probability of the standard bivariate normal distribution (i.e. $\\mu=(0,0)$, $\\Sigma=((1,f),(f,1)))$, $|f|\\leq 1$).\n",
    "\n"
   ],
   "cell_type": "markdown",
   "metadata": {}
  }
 ],
 "metadata": {
  "kernelspec": {
   "name": "python376jvsc74a57bd0aa35db1da7006ab012abececa6ec72abb64c0ed34ccde5968bb7d694835a2833",
   "display_name": "Python 3.7.6 64-bit ('base': conda)"
  },
  "language_info": {
   "codemirror_mode": {
    "name": "ipython",
    "version": 3
   },
   "file_extension": ".py",
   "mimetype": "text/x-python",
   "name": "python",
   "nbconvert_exporter": "python",
   "pygments_lexer": "ipython3",
   "version": "3.7.6"
  }
 },
 "nbformat": 4,
 "nbformat_minor": 4
}