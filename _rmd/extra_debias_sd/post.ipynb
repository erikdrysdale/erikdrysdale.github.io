{
 "cells": [
  {
   "cell_type": "markdown",
   "metadata": {},
   "source": [
    "# Unbiased estimation of the standard deviation\n",
    "\n",
    "In this post ....\n",
    "\n",
    "<br>\n",
    "\n",
    "## Background\n",
    "\n",
    "It is well understood that the [sample variance](https://en.wikipedia.org/wiki/Variance#Unbiased_sample_variance), $S^2$ is an unbiased estimate of the variance for any well-behaved continuous distribution.\n",
    "\n",
    "<br>\n",
    "\n",
    "$$\n",
    "\\begin{align*}\n",
    "X &\\sim F \\hspace{2mm} \\text{where $F$ is some continuous dist} \\\\\n",
    "\\text{Var}(X) &= E([X - E(X)]^2) \\\\\n",
    "S^2 &= (n-1)^{-1} \\sum_{i=1}^n (X_i - \\bar{X})^2 \\\\ \n",
    "\\bar{X} &= n^{-1} \\sum_{i=1}^n X_i \\\\\n",
    "(n-1) E[S^2] &= \\sum_{i=1}^n E[(X_i - \\mu)^2] - nE[(\\bar{X} - \\mu)^2] \\\\\n",
    "&= \\sum_{i=1}^n \\sigma^2 - n \\text{Var}(\\bar{X}) \\\\\n",
    "&= n\\sigma^2 - n \\frac{\\sigma^2}{n} \\\\\n",
    "&= (n-1) \\sigma^2 \\hspace{2mm} \\longleftrightarrow \\\\\n",
    "E[S^2] &= \\sigma^2\n",
    "\\end{align*}\n",
    "$$\n",
    "\n",
    "This fact is pretty remarkable. For any finite sample, using [Bessel's correction](https://en.wikipedia.org/wiki/Bessel%27s_correction) provides an unbiased estimate of the second moment of any distribution. Of course, the variance of $S^2$ will increase the smaller the sample size, but the magnitude of the variation can be estimated using standard non-parametric approaches."
   ]
  },
  {
   "cell_type": "code",
   "execution_count": null,
   "metadata": {},
   "outputs": [],
   "source": []
  }
 ],
 "metadata": {
  "kernelspec": {
   "display_name": "base",
   "language": "python",
   "name": "python3"
  },
  "language_info": {
   "name": "python",
   "version": "3.1.-1"
  }
 },
 "nbformat": 4,
 "nbformat_minor": 2
}
