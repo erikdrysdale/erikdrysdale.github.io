{
 "cells": [
  {
   "cell_type": "markdown",
   "metadata": {},
   "source": [
    "# An Overview of Conformal Prediction (CP)"
   ]
  },
  {
   "cell_type": "markdown",
   "metadata": {},
   "source": [
    "## (1) Quantile adjustment"
   ]
  },
  {
   "cell_type": "code",
   "execution_count": 68,
   "metadata": {},
   "outputs": [
    {
     "name": "stdout",
     "output_type": "stream",
     "text": [
      "For n=10, original ub=0.80, adjusted=0.90\n"
     ]
    }
   ],
   "source": [
    "import numpy as np\n",
    "from sklearn import datasets\n",
    "from sklearn.linear_model import LogisticRegression\n",
    "import plotnine as pn\n",
    "\n",
    "# Example of probability adjustment for quantile\n",
    "n = 10\n",
    "alpha = 0.2\n",
    "p = 1 - alpha\n",
    "def get_adjusted_level(alpha, n):\n",
    "    return np.ceil((n+1)*(1-alpha)) / n\n",
    "p_adj = get_adjusted_level(alpha, n)\n",
    "print(f'For n={n}, original ub={p:.2f}, adjusted={p_adj:.2f}')"
   ]
  },
  {
   "cell_type": "markdown",
   "metadata": {},
   "source": [
    "## (2) Multiclass (CIFAR)"
   ]
  },
  {
   "cell_type": "code",
   "execution_count": null,
   "metadata": {},
   "outputs": [],
   "source": [
    "from sklearn.exceptions import ConvergenceWarning\n",
    "import warnings\n",
    "warnings.filterwarnings(\"ignore\", category=ConvergenceWarning)\n",
    "\n",
    "raw_X, raw_y = datasets.load_digits(return_X_y=True)\n",
    "np.random.seed(1)\n",
    "raw_X += 5*np.random.rand(*raw_X.shape)  # Make problem a bit harder\n",
    "\n",
    "size = raw_X.shape[0]\n",
    "n_calib = 500\n",
    "n_train = size - (n_calib + 1)\n",
    "alpha = 0.1\n",
    "level_adj = get_adjusted_level(alpha=alpha, n = n_calib)\n",
    "\n",
    "def run_digits_cpsets(seed):\n",
    "    # Shuffle and split the data\n",
    "    np.random.seed(seed)\n",
    "    idx_shuffled = np.argsort(np.random.rand(size))\n",
    "    idx_train = idx_shuffled[:n_train]\n",
    "    idx_calib = idx_shuffled[n_train:-1]\n",
    "    X_train, y_train = raw_X[idx_train], raw_y[idx_train]\n",
    "    X_calib, y_calib = raw_X[idx_calib], raw_y[idx_calib]\n",
    "    X_oos, y_oos = raw_X[[idx_train[-1]]], raw_y[idx_train[-1]]\n",
    "    # Fit model on training data\n",
    "    f_theta = LogisticRegression(penalty=None, max_iter=1000)\n",
    "    f_theta.fit(X=X_train, y = y_train)\n",
    "    # Generate softmax probs on calibration\n",
    "    phat = f_theta.predict_proba(X_calib)\n",
    "    # Generate the scores\n",
    "    scores = 1 - phat[np.arange(n_calib), y_calib]\n",
    "    # Get the adjusted quantile value\n",
    "    qhat = np.quantile(scores, level_adj, method='higher')\n",
    "    # Predict the held out sample and generate confidence sets\n",
    "    tau_sets = list(np.where(1 - f_theta.predict_proba(X_oos) <= qhat)[1])\n",
    "    coverage = bool(np.isin(y_oos, tau_sets))\n",
    "    return coverage, tau_sets\n",
    "\n",
    "# Run the simulations\n",
    "nsim = 100\n",
    "holder_cov = []\n",
    "holder_sets = []\n",
    "for seed in range(nsim):\n",
    "    if (seed + 1) % 5 == 0:\n",
    "        print(seed + 1)\n",
    "    coverage, tau_sets = run_digits_cpsets(seed)\n",
    "    holder_cov.append(coverage)\n",
    "    holder_sets.append(tau_sets)\n"
   ]
  },
  {
   "cell_type": "code",
   "execution_count": null,
   "metadata": {},
   "outputs": [],
   "source": []
  }
 ],
 "metadata": {
  "kernelspec": {
   "display_name": "base",
   "language": "python",
   "name": "python3"
  },
  "language_info": {
   "codemirror_mode": {
    "name": "ipython",
    "version": 3
   },
   "file_extension": ".py",
   "mimetype": "text/x-python",
   "name": "python",
   "nbconvert_exporter": "python",
   "pygments_lexer": "ipython3",
   "version": "3.11.7"
  }
 },
 "nbformat": 4,
 "nbformat_minor": 2
}
